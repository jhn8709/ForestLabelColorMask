{
 "cells": [
  {
   "cell_type": "code",
   "execution_count": 1,
   "id": "b8b2647c",
   "metadata": {},
   "outputs": [],
   "source": [
    "import cv2\n",
    "import numpy as np\n",
    "import pandas as pd"
   ]
  },
  {
   "cell_type": "code",
   "execution_count": 2,
   "id": "9378379e",
   "metadata": {},
   "outputs": [
    {
     "name": "stdout",
     "output_type": "stream",
     "text": [
      "2218.0\n"
     ]
    }
   ],
   "source": [
    "capture = cv2.VideoCapture(r\"C:\\Users\\Jimmy\\Documents\\Experimental_Forest\\Video Data\\Location-6\\L6V2.mp4\")\n",
    "total_frames = capture.get(cv2.CAP_PROP_FRAME_COUNT)\n",
    "print(total_frames)\n",
    "df = pd.read_csv('GT_IMG_1258.csv')\n",
    "df2 = pd.read_csv('GT_IMG_1258_919.csv')"
   ]
  },
  {
   "cell_type": "code",
   "execution_count": 3,
   "id": "1d2163f1",
   "metadata": {},
   "outputs": [],
   "source": [
    "def drawLine(startX, startY, endX, endY):\n",
    "    YPoints = []\n",
    "    XPoints = []\n",
    "    dx = endX - startX\n",
    "    dy = endY - startY\n",
    "    steps = abs(dx) if (abs(dx) > abs(dy)) else abs(dy)\n",
    "    Xinc = dx / steps\n",
    "    Yinc = dy / steps\n",
    "    X = startX\n",
    "    Y = startY\n",
    "    for i in range(int(steps)):\n",
    "        XPoints.append(round(X))\n",
    "        YPoints.append(round(Y))\n",
    "        X += Xinc\n",
    "        Y += Yinc\n",
    "    return XPoints, YPoints"
   ]
  },
  {
   "cell_type": "code",
   "execution_count": 4,
   "id": "7a00a9fa",
   "metadata": {},
   "outputs": [],
   "source": [
    "def fillROI(GT_df, frame_index):\n",
    "    \n",
    "    max_width = 375\n",
    "    max_y = 720 # represents floor in front\n",
    "    min_y = 230 # represents \"horizon\"\n",
    "    slope = max_width / (max_y-min_y)\n",
    "    point_count = GT_df[\"#ofPoints\"][frame_index]\n",
    "    frame_points = GT_df.iloc[frame_index, 2:(2+point_count*2)]\n",
    "    Xlist = []\n",
    "    Ylist = []\n",
    "    Xpoints = []\n",
    "    Ypoints = []\n",
    "    \n",
    "    for i in range(0, point_count*2-2, 2):\n",
    "        # OpenCV implementation of the line for comparison\n",
    "#         cv2.line(frame, (int(frame_points[i]), int(frame_points[i+1])), \n",
    "#                          (int(frame_points[i+2]), int(frame_points[i+3])), (0,0,255), 2) \n",
    "        \n",
    "        Xpoints, Ypoints = drawLine(int(frame_points[i]), int(frame_points[i+1]), \n",
    "                                     int(frame_points[i+2]), int(frame_points[i+3]))\n",
    "        \n",
    "        # This section determines which pixels are part of the ROI (region of interest) from the labeled points\n",
    "        for j in range(len(Xpoints)):\n",
    "            # This linear equation serves as a base\n",
    "            width = max_width - (max_y-Ypoints[j]) * slope\n",
    "            width = int(width//2)\n",
    "            Xlist.append(Xpoints[j])\n",
    "            Ylist.append(Ypoints[j])\n",
    "            for k in range(1, width, 1):\n",
    "                Xlist.append(Xpoints[j]+k)\n",
    "                Ylist.append(Ypoints[j])\n",
    "                Xlist.append(Xpoints[j]-k)\n",
    "                Ylist.append(Ypoints[j])\n",
    "                             \n",
    "#         Xlist += Xpoints\n",
    "#         Ylist += Ypoints\n",
    "    return Xlist, Ylist"
   ]
  },
  {
   "cell_type": "code",
   "execution_count": 5,
   "id": "41bb69d4",
   "metadata": {},
   "outputs": [],
   "source": [
    "def applyMask(frame, Xlist, Ylist, color='green'):\n",
    "    mask = np.zeros(frame.shape[:2], dtype=np.uint8)\n",
    "    # Define the coordinates of the region of interest (roi_corners)\n",
    "    roi_corners = np.array([(x, y) for x, y in zip(Xlist, Ylist)], dtype=np.int32)\n",
    "    cv2.fillPoly(mask, [roi_corners], (255, 255, 255))\n",
    "\n",
    "    # Darken the shade of the mask color (light green)\n",
    "    if color == 'green':\n",
    "        mask_color = (0, 175, 0)\n",
    "    elif color == 'blue':\n",
    "        mask_color = (175, 0, 0)\n",
    "    elif color == 'red':\n",
    "        mask_color = (0, 0, 175)\n",
    "    #dark_green = (0, 175, 0)\n",
    "    darkened_mask = cv2.bitwise_and(mask, mask, mask=mask)\n",
    "\n",
    "    # Create an overlay with the same size as the image\n",
    "    overlay = np.zeros_like(frame)\n",
    "    overlay[darkened_mask != 0] = mask_color\n",
    "\n",
    "    masked_overlay = cv2.bitwise_and(overlay, overlay, mask=mask)\n",
    "\n",
    "    output = cv2.addWeighted(frame, 1, masked_overlay, 0.25, 0.5)\n",
    "    return output"
   ]
  },
  {
   "cell_type": "code",
   "execution_count": 6,
   "id": "63cc485d",
   "metadata": {},
   "outputs": [],
   "source": [
    "# frame_index = -1\n",
    "# fast_forward = 1\n",
    "# counter = 0\n",
    "# capture = cv2.VideoCapture(r\"C:\\Users\\Jimmy\\Documents\\Experimental_Forest\\Video Data\\Location-6\\L6V2.mp4\")\n",
    "# paused = False\n",
    "# while True:\n",
    "    \n",
    "#     capture.set(cv2.CAP_PROP_FRAME_COUNT, frame_index)\n",
    "#     isTrue, frame = capture.read()\n",
    "#     if (frame_index < total_frames-2) & ((counter%fast_forward)==0):\n",
    "#         counter = 0\n",
    "#         Xlist, Ylist = fillROI(df, frame_index+1)\n",
    "#         Xlist2, Ylist2 = fillROI(df2, frame_index+1)\n",
    "#         masked_frame = applyMask(frame, Xlist, Ylist, 'blue')\n",
    "#         #masked_frame = applyMask(masked_frame, Xlist2, Ylist2, 'green')\n",
    "#         #masked_frame = applyMask(frame, Xlist2, Ylist2, 'green')\n",
    "#         cv2.imshow('Video', masked_frame)\n",
    "#         frame_index += fast_forward\n",
    "#         if cv2.waitKey(2) & 0xFF==ord('d'):\n",
    "#             cv2.destroyAllWindows()\n",
    "#             break\n",
    "#         if cv2.waitKey(2) & 0xFF==ord('f'):\n",
    "#             if fast_forward == 1:\n",
    "#                 fast_forward = 5\n",
    "#             else:\n",
    "#                 fast_forward = 1\n",
    "#         if cv2.waitKey(2) & 0xFF==ord('g'):\n",
    "#             paused = not paused\n",
    "            \n",
    "#     counter+=1\n",
    "\n",
    "            "
   ]
  },
  {
   "cell_type": "code",
   "execution_count": 7,
   "id": "1c0657aa",
   "metadata": {},
   "outputs": [],
   "source": [
    "frame_index = -1\n",
    "fast_forward = 1\n",
    "counter = 0\n",
    "capture = cv2.VideoCapture(r\"C:\\Users\\Jimmy\\Documents\\Experimental_Forest\\Video Data\\Location-6\\L6V2.mp4\")\n",
    "paused = False\n",
    "while True:\n",
    "    if not paused:\n",
    "        capture.set(cv2.CAP_PROP_FRAME_COUNT, frame_index)\n",
    "        isTrue, frame = capture.read()\n",
    "        if (frame_index < total_frames-2) & ((counter%fast_forward)==0):\n",
    "            counter = 0\n",
    "            Xlist, Ylist = fillROI(df, frame_index+1)\n",
    "            Xlist2, Ylist2 = fillROI(df2, frame_index+1)\n",
    "            masked_frame = applyMask(frame, Xlist, Ylist, 'blue')\n",
    "            #masked_frame = applyMask(masked_frame, Xlist2, Ylist2, 'green')\n",
    "            #masked_frame = applyMask(frame, Xlist2, Ylist2, 'green')\n",
    "            cv2.imshow('Video', masked_frame)\n",
    "            frame_index += fast_forward\n",
    "        counter+=1\n",
    "    if cv2.waitKey(2) & 0xFF==ord('d'):\n",
    "        cv2.destroyAllWindows()\n",
    "        break\n",
    "    if cv2.waitKey(2) & 0xFF==ord('f'):\n",
    "        if fast_forward == 1:\n",
    "            fast_forward = 5\n",
    "        else:\n",
    "            fast_forward = 1\n",
    "    if cv2.waitKey(2) & 0xFF==ord('g'):\n",
    "        paused = not paused\n"
   ]
  },
  {
   "cell_type": "code",
   "execution_count": 8,
   "id": "d551f715",
   "metadata": {},
   "outputs": [],
   "source": [
    "from shapely.geometry import Polygon"
   ]
  },
  {
   "cell_type": "code",
   "execution_count": 9,
   "id": "1fdca699",
   "metadata": {},
   "outputs": [],
   "source": [
    "def getROICorners(GT_df, frame_index):\n",
    "    \n",
    "    max_width = 375\n",
    "    max_y = 720 # represents floor in front\n",
    "    min_y = 230 # represents \"horizon\"\n",
    "    slope = max_width / (max_y-min_y)\n",
    "    point_count = GT_df[\"#ofPoints\"][frame_index]\n",
    "    frame_points = GT_df.iloc[frame_index, 2:(2+point_count*2)]\n",
    "    Xlist = []\n",
    "    Ylist = []\n",
    "    \n",
    "    # iterate through each point using the y-value\n",
    "    for i in range(1, point_count*2, 2):\n",
    "#         Xpoints, Ypoints = drawLine(int(frame_points[i]), int(frame_points[i+1]), \n",
    "#                                      int(frame_points[i+2]), int(frame_points[i+3]))\n",
    "\n",
    "        # This linear equation serves as a base\n",
    "        width = max_width - (max_y-frame_points[i]) * slope\n",
    "        width = int(width//2)\n",
    "        Xlist.append(frame_points[i-1]+width)\n",
    "        Ylist.append(frame_points[i])\n",
    "        Xlist.append(frame_points[i-1]-width)\n",
    "        Ylist.append(frame_points[i])\n",
    "    return Xlist, Ylist"
   ]
  },
  {
   "cell_type": "code",
   "execution_count": 10,
   "id": "f120f357",
   "metadata": {},
   "outputs": [
    {
     "name": "stdout",
     "output_type": "stream",
     "text": [
      "[(773.0, 702.0), (413.0, 702.0), (641.0, 364.0), (539.0, 364.0), (551.0, 301.0), (497.0, 301.0)]\n"
     ]
    }
   ],
   "source": [
    "Xlist1, Ylist1 = getROICorners(df, 1)\n",
    "#print(Xlist)\n",
    "#print(Ylist)\n",
    "\n",
    "#points1 = [Xlist1, Ylist1]\n",
    "points1 = []\n",
    "for point in range(len(Xlist1)):\n",
    "    points1.append( (Xlist1[point],Ylist1[point]) )\n",
    "print(points1)\n",
    "#points2 = [XList2, YList2]"
   ]
  },
  {
   "cell_type": "code",
   "execution_count": 11,
   "id": "c50c8223",
   "metadata": {},
   "outputs": [],
   "source": [
    "def draw_polygon(image, points, color):\n",
    "    points = np.array(points)\n",
    "    points = points.reshape((-1, 1, 2))\n",
    "    cv2.fillPoly(image, [points], color)"
   ]
  },
  {
   "cell_type": "code",
   "execution_count": 12,
   "id": "cb39d91e",
   "metadata": {},
   "outputs": [
    {
     "name": "stdout",
     "output_type": "stream",
     "text": [
      "[(775.0, 700.0), (417.0, 700.0), (641.0, 364.0), (539.0, 364.0), (550.0, 301.0), (496.0, 301.0)]\n"
     ]
    }
   ],
   "source": [
    "Xlist1, Ylist1 = getROICorners(df, 0)\n",
    "points1 = []\n",
    "for point in range(len(Xlist1)):\n",
    "    points1.append( (Xlist1[point],Ylist1[point]) )\n",
    "print(points1)\n",
    "capture.set(cv2.CAP_PROP_FRAME_COUNT, 0)\n",
    "ret, frame = capture.read()\n",
    "cv2.imshow('Original', frame)\n",
    "points = points1\n",
    "\n",
    "# # Create a polygon using Shapely\n",
    "# polygon = Polygon(points)\n",
    "\n",
    "# # Draw and fill the polygon with a specific color (e.g., blue)\n",
    "# draw_polygon(frame, polygon.exterior.coords, (255, 0, 0))"
   ]
  },
  {
   "cell_type": "code",
   "execution_count": null,
   "id": "9b4d9217",
   "metadata": {},
   "outputs": [],
   "source": []
  }
 ],
 "metadata": {
  "kernelspec": {
   "display_name": "Python 3 (ipykernel)",
   "language": "python",
   "name": "python3"
  },
  "language_info": {
   "codemirror_mode": {
    "name": "ipython",
    "version": 3
   },
   "file_extension": ".py",
   "mimetype": "text/x-python",
   "name": "python",
   "nbconvert_exporter": "python",
   "pygments_lexer": "ipython3",
   "version": "3.9.13"
  }
 },
 "nbformat": 4,
 "nbformat_minor": 5
}
