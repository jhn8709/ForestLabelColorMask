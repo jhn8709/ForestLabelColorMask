{
 "cells": [
  {
   "cell_type": "code",
   "execution_count": 1,
   "id": "771d5d99",
   "metadata": {},
   "outputs": [],
   "source": [
    "import cv2\n",
    "import numpy as np\n",
    "import pandas as pd\n",
    "from shapely.geometry import Polygon\n",
    "import os\n",
    "import matplotlib.pyplot as plt\n"
   ]
  },
  {
   "cell_type": "code",
   "execution_count": 2,
   "id": "eb017fb3",
   "metadata": {},
   "outputs": [],
   "source": [
    "def getROICorners(GT_df, frame_index, max_width=375):\n",
    "    \n",
    "    #max_width = 375\n",
    "    max_y = 720 # represents floor in front\n",
    "    min_y = 150 # represents \"horizon\"\n",
    "    slope = max_width / (max_y-min_y)\n",
    "    point_count = GT_df[\"#ofPoints\"][frame_index]\n",
    "    frame_points = GT_df.iloc[frame_index, 3:(3+point_count*2)]\n",
    "    Xlist = []\n",
    "    Ylist = []\n",
    "    \n",
    "    # iterate through each point using the y-value\n",
    "    for i in range(1, point_count*2, 2):\n",
    "        # This linear equation serves as a base\n",
    "        #print(frame_points[i])\n",
    "        if i == 1 and frame_points[i] != 720:\n",
    "            frame_points[i] = 720\n",
    "        if frame_points[i] == 0 and frame_points[i-1] == 0:\n",
    "            continue\n",
    "        if frame_points[i] < min_y and i != 1:\n",
    "            x1 = frame_points[i-3]\n",
    "            y1 = frame_points[i-2]\n",
    "            x2 = frame_points[i-1]\n",
    "            y2 = frame_points[i]\n",
    "            #print(x1, y1, x2, y2)\n",
    "            if (x2-x1 == 0):\n",
    "                frame_points[i-1] = x2\n",
    "                frame_points[i] = min_y\n",
    "            else:\n",
    "                slope = (y2-y1)/(x2-x1)\n",
    "                intercept = y1 - slope * x1\n",
    "                new_x = (min_y-intercept) / slope\n",
    "                frame_points[i-1] = new_x\n",
    "                frame_points[i] = min_y\n",
    "            #print(\"Old X value = {}, New X Value = {}\".format(x2, frame_points[i-1]))\n",
    "        width = max_width - (max_y-frame_points[i]) * slope\n",
    "        width = int(width//2)\n",
    "        if frame_points[i-1]+width > 1280:\n",
    "            Xlist.append(1275)\n",
    "        else:\n",
    "            Xlist.append(frame_points[i-1]+width)\n",
    "        Ylist.append(frame_points[i])\n",
    "        if frame_points[i-1]-width < 0:\n",
    "            Xlist.append(0)\n",
    "        else:\n",
    "            Xlist.append(frame_points[i-1]-width)\n",
    "        Ylist.append(frame_points[i])\n",
    "    return Xlist, Ylist"
   ]
  },
  {
   "cell_type": "code",
   "execution_count": 3,
   "id": "ba0bd396",
   "metadata": {},
   "outputs": [],
   "source": [
    "def calculate_iou(polygon1, polygon2):\n",
    "    # Clean the polygons to fix any self-intersection issues\n",
    "    clean_polygon1 = polygon1.buffer(0)\n",
    "    clean_polygon2 = polygon2.buffer(0)\n",
    "\n",
    "    # Calculate the intersection and union of the cleaned polygons\n",
    "    intersection_area = clean_polygon1.intersection(clean_polygon2).area\n",
    "    union_area = clean_polygon1.union(clean_polygon2).area\n",
    "\n",
    "\n",
    "    # Check if the union area is zero\n",
    "    if union_area == 0:\n",
    "        iou = 0  # Handle the case where there is no union\n",
    "    else:\n",
    "        # Calculate the IoU\n",
    "        iou = intersection_area / union_area\n",
    "        iou = intersection_area / union_area\n",
    "\n",
    "    return iou"
   ]
  },
  {
   "cell_type": "code",
   "execution_count": 4,
   "id": "dcc3d98b",
   "metadata": {},
   "outputs": [],
   "source": [
    "def list_files(folder_path):\n",
    "    # Get a list of all files in the folder\n",
    "    files = [f for f in os.listdir(folder_path) if os.path.isfile(os.path.join(folder_path, f))]\n",
    "    \n",
    "    return files"
   ]
  },
  {
   "cell_type": "code",
   "execution_count": 5,
   "id": "a7bc1a2e",
   "metadata": {},
   "outputs": [],
   "source": [
    "def getVideoIoU(df1, df2, total_frames, fileName, max_width=375):\n",
    "    total_iou = 0\n",
    "    frame_count = total_frames\n",
    "    for frame_index in range(total_frames):\n",
    "        \"    #print(frame_index)\\n\",\n",
    "        Xlist1, Ylist1 = getROICorners(df1, frame_index, max_width)\n",
    "        Xlist2, Ylist2 = getROICorners(df2, frame_index, max_width)\n",
    "        points1 = []\n",
    "        for point in range(0, len(Xlist1), 2):\n",
    "            points1.append( (Xlist1[point],Ylist1[point]) )\n",
    "        for point in reversed(range(1, len(Xlist1), 2)):\n",
    "            points1.append( (Xlist1[point],Ylist1[point]) )\n",
    "        points2 = []\n",
    "        for point in range(0, len(Xlist2), 2):\n",
    "            points2.append( (Xlist2[point],Ylist2[point]) )\n",
    "        for point in reversed(range(1, len(Xlist2), 2)):\n",
    "            points2.append( (Xlist2[point],Ylist2[point]) )\n",
    "        if len(points2)<4 or len(points1)<4:\n",
    "            frame_count -= 1\n",
    "            continue\n",
    "        polygon1 = Polygon(points1)\n",
    "        polygon2 = Polygon(points2)\n",
    "        total_iou += calculate_iou(polygon1, polygon2)\n",
    "    #print(fileName+\" IoU = \", end=\"\")\n",
    "    #print(total_iou/frame_count)\n",
    "    #print(frame_count)\n",
    "    return total_iou/frame_count"
   ]
  },
  {
   "cell_type": "code",
   "execution_count": 6,
   "id": "a48151bd",
   "metadata": {},
   "outputs": [],
   "source": [
    "locationList = [\"L4\", \"L5\", \"L6\", \"L7\", \"L8\", \"L9\", \"L10\", \"L11\", \"L12\", \"L13\", \"L14\", \"L15\", \n",
    "                \"L16\", \"L17\", \"L18\", \"L19\", \"L20\", \"L21\",\"L22\", \"L23\", \"L24\", \"L25\", \"L26\", \n",
    "                \"L27\", \"L28\", \"L29\"]\n",
    "videoFolderPath = r\"C:\\Users\\Jimmy\\Documents\\Experimental_Forest\\VideoData720p\\Location 4 - Experimental Forest\"\n",
    "GT1RootPath = r\"C:\\Users\\Jimmy\\Downloads\\GroundTruthLabelsJimmy\\\\\"\n",
    "GT2RootPath = r\"C:\\Users\\Jimmy\\Downloads\\GroundTruthLabelsPranava\\\\\"\n",
    "GT1FolderPath = GT1RootPath + locationList[0]\n",
    "GT2FolderPath = GT2RootPath + locationList[0]\n",
    "GTFiles = list_files(GT1FolderPath)\n",
    "#print(GTFiles)\n",
    "videoName = GTFiles[0][:-7] + \".mp4\""
   ]
  },
  {
   "cell_type": "code",
   "execution_count": 7,
   "id": "50454ef6",
   "metadata": {},
   "outputs": [
    {
     "name": "stdout",
     "output_type": "stream",
     "text": [
      "21\n"
     ]
    }
   ],
   "source": [
    "test_widths = [*range(100, 625, 25)]\n",
    "IoU_for_width = []\n",
    "print(len(test_widths))"
   ]
  },
  {
   "cell_type": "code",
   "execution_count": 8,
   "id": "1bf37c1a",
   "metadata": {},
   "outputs": [
    {
     "name": "stdout",
     "output_type": "stream",
     "text": [
      "Analyzing with width: 100\n",
      "For width 100 total IoU = 0.3160853798809259\n",
      "Analyzing with width: 125\n",
      "For width 125 total IoU = 0.37141533358473217\n",
      "Analyzing with width: 150\n"
     ]
    },
    {
     "name": "stderr",
     "output_type": "stream",
     "text": [
      "\n",
      "KeyboardInterrupt\n",
      "\n"
     ]
    }
   ],
   "source": [
    "for width in test_widths:\n",
    "    print(\"Analyzing with width: {}\".format(width))\n",
    "    locationIoU = 0\n",
    "    totalIoU = 0\n",
    "    for location in locationList:\n",
    "        #print(\"Analyzing \"+location)\n",
    "        GT1FolderPath = GT1RootPath + location\n",
    "        GT2FolderPath = GT2RootPath + location\n",
    "        GTFiles = list_files(GT1FolderPath)\n",
    "        locationIoU = 0\n",
    "        for file in range(len(GTFiles)):\n",
    "            GT1Location = GT1FolderPath+\"\\\\\"+GTFiles[file]\n",
    "            GT2Location = GT2FolderPath+\"\\\\\"+GTFiles[file]\n",
    "            df1 = pd.read_csv(GT1Location)\n",
    "            df2 = pd.read_csv(GT2Location)\n",
    "            total_frames = df1.shape[0]-1\n",
    "            videoName = GTFiles[file][:-7] + \".mp4\"\n",
    "            locationIoU += getVideoIoU(df1, df2, total_frames, videoName, width)\n",
    "        locationIoU /= len(GTFiles)\n",
    "        #print(\"LocationIoU = \",end=\"\")\n",
    "        #print(locationIoU)\n",
    "        totalIoU += locationIoU\n",
    "    totalIoU /= len(locationList)\n",
    "    print(\"For width {} total IoU = {}\".format(width, totalIoU))\n",
    "    IoU_for_width.append(totalIoU)\n",
    "    #print(totalIoU)"
   ]
  },
  {
   "cell_type": "code",
   "execution_count": null,
   "id": "a42ab881",
   "metadata": {},
   "outputs": [],
   "source": [
    "IoUValues = [0.3180134668477351, 0.3743598011280417, 0.42198413238115917, 0.46233507196721285, \n",
    "            0.4969774571974802, 0.5270664823206069, 0.5534962183576129, 0.5768589075467951,\n",
    "            0.5976598593559602, 0.6162018744942583, 0.632906643906917, 0.647997909263281,\n",
    "            0.6617179907143377, 0.6742338291004948, 0.6857229028456628, 0.6963145189205071,\n",
    "            0.706067831739511, 0.7147367245638805, 0.7231847348024983, 0.7310564528397792,\n",
    "            0.7384306977929495]"
   ]
  },
  {
   "cell_type": "code",
   "execution_count": null,
   "id": "c02bbc99",
   "metadata": {},
   "outputs": [],
   "source": [
    "xpoints = np.array(test_widths)\n",
    "ypoints = np.array(IoUValues)\n",
    "plt.plot(xpoints, ypoints)\n",
    "plt.show()"
   ]
  },
  {
   "cell_type": "code",
   "execution_count": null,
   "id": "6a0056fc",
   "metadata": {},
   "outputs": [],
   "source": []
  }
 ],
 "metadata": {
  "kernelspec": {
   "display_name": "Python 3 (ipykernel)",
   "language": "python",
   "name": "python3"
  },
  "language_info": {
   "codemirror_mode": {
    "name": "ipython",
    "version": 3
   },
   "file_extension": ".py",
   "mimetype": "text/x-python",
   "name": "python",
   "nbconvert_exporter": "python",
   "pygments_lexer": "ipython3",
   "version": "3.9.13"
  }
 },
 "nbformat": 4,
 "nbformat_minor": 5
}
